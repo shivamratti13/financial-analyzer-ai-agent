{
  "cells": [
    {
      "cell_type": "code",
      "execution_count": 1,
      "metadata": {
        "colab": {
          "base_uri": "https://localhost:8080/",
          "height": 1000
        },
        "id": "Vpzb5pYgpz5P",
        "outputId": "6f15a076-a1de-4973-9ec3-bf061ae2abaf"
      },
      "outputs": [
        {
          "name": "stdout",
          "output_type": "stream",
          "text": [
            "Collecting newsapi-python\n",
            "  Downloading newsapi_python-0.2.7-py2.py3-none-any.whl.metadata (1.2 kB)\n",
            "Requirement already satisfied: requests<3.0.0 in /usr/local/lib/python3.11/dist-packages (from newsapi-python) (2.32.3)\n",
            "Requirement already satisfied: charset-normalizer<4,>=2 in /usr/local/lib/python3.11/dist-packages (from requests<3.0.0->newsapi-python) (3.4.2)\n",
            "Requirement already satisfied: idna<4,>=2.5 in /usr/local/lib/python3.11/dist-packages (from requests<3.0.0->newsapi-python) (3.10)\n",
            "Requirement already satisfied: urllib3<3,>=1.21.1 in /usr/local/lib/python3.11/dist-packages (from requests<3.0.0->newsapi-python) (2.5.0)\n",
            "Requirement already satisfied: certifi>=2017.4.17 in /usr/local/lib/python3.11/dist-packages (from requests<3.0.0->newsapi-python) (2025.8.3)\n",
            "Downloading newsapi_python-0.2.7-py2.py3-none-any.whl (7.9 kB)\n",
            "Installing collected packages: newsapi-python\n",
            "Successfully installed newsapi-python-0.2.7\n",
            "Collecting alpaca-trade-api\n",
            "  Downloading alpaca_trade_api-3.2.0-py3-none-any.whl.metadata (29 kB)\n",
            "Requirement already satisfied: pandas>=0.18.1 in /usr/local/lib/python3.11/dist-packages (from alpaca-trade-api) (2.2.2)\n",
            "Requirement already satisfied: numpy>=1.11.1 in /usr/local/lib/python3.11/dist-packages (from alpaca-trade-api) (2.0.2)\n",
            "Requirement already satisfied: requests<3,>2 in /usr/local/lib/python3.11/dist-packages (from alpaca-trade-api) (2.32.3)\n",
            "Collecting urllib3<2,>1.24 (from alpaca-trade-api)\n",
            "  Downloading urllib3-1.26.20-py2.py3-none-any.whl.metadata (50 kB)\n",
            "\u001b[2K     \u001b[90m━━━━━━━━━━━━━━━━━━━━━━━━━━━━━━━━━━━━━━━━\u001b[0m \u001b[32m50.1/50.1 kB\u001b[0m \u001b[31m1.3 MB/s\u001b[0m eta \u001b[36m0:00:00\u001b[0m\n",
            "\u001b[?25hRequirement already satisfied: websocket-client<2,>=0.56.0 in /usr/local/lib/python3.11/dist-packages (from alpaca-trade-api) (1.8.0)\n",
            "Collecting websockets<11,>=9.0 (from alpaca-trade-api)\n",
            "  Downloading websockets-10.4-cp311-cp311-manylinux_2_5_x86_64.manylinux1_x86_64.manylinux_2_17_x86_64.manylinux2014_x86_64.whl.metadata (6.4 kB)\n",
            "Collecting msgpack==1.0.3 (from alpaca-trade-api)\n",
            "  Downloading msgpack-1.0.3.tar.gz (123 kB)\n",
            "\u001b[2K     \u001b[90m━━━━━━━━━━━━━━━━━━━━━━━━━━━━━━━━━━━━━━━\u001b[0m \u001b[32m123.8/123.8 kB\u001b[0m \u001b[31m5.9 MB/s\u001b[0m eta \u001b[36m0:00:00\u001b[0m\n",
            "\u001b[?25h  Preparing metadata (setup.py) ... \u001b[?25l\u001b[?25hdone\n",
            "Requirement already satisfied: aiohttp<4,>=3.8.3 in /usr/local/lib/python3.11/dist-packages (from alpaca-trade-api) (3.12.15)\n",
            "Collecting PyYAML==6.0.1 (from alpaca-trade-api)\n",
            "  Downloading PyYAML-6.0.1-cp311-cp311-manylinux_2_17_x86_64.manylinux2014_x86_64.whl.metadata (2.1 kB)\n",
            "Collecting deprecation==2.1.0 (from alpaca-trade-api)\n",
            "  Downloading deprecation-2.1.0-py2.py3-none-any.whl.metadata (4.6 kB)\n",
            "Requirement already satisfied: packaging in /usr/local/lib/python3.11/dist-packages (from deprecation==2.1.0->alpaca-trade-api) (25.0)\n",
            "Requirement already satisfied: aiohappyeyeballs>=2.5.0 in /usr/local/lib/python3.11/dist-packages (from aiohttp<4,>=3.8.3->alpaca-trade-api) (2.6.1)\n",
            "Requirement already satisfied: aiosignal>=1.4.0 in /usr/local/lib/python3.11/dist-packages (from aiohttp<4,>=3.8.3->alpaca-trade-api) (1.4.0)\n",
            "Requirement already satisfied: attrs>=17.3.0 in /usr/local/lib/python3.11/dist-packages (from aiohttp<4,>=3.8.3->alpaca-trade-api) (25.3.0)\n",
            "Requirement already satisfied: frozenlist>=1.1.1 in /usr/local/lib/python3.11/dist-packages (from aiohttp<4,>=3.8.3->alpaca-trade-api) (1.7.0)\n",
            "Requirement already satisfied: multidict<7.0,>=4.5 in /usr/local/lib/python3.11/dist-packages (from aiohttp<4,>=3.8.3->alpaca-trade-api) (6.6.3)\n",
            "Requirement already satisfied: propcache>=0.2.0 in /usr/local/lib/python3.11/dist-packages (from aiohttp<4,>=3.8.3->alpaca-trade-api) (0.3.2)\n",
            "Requirement already satisfied: yarl<2.0,>=1.17.0 in /usr/local/lib/python3.11/dist-packages (from aiohttp<4,>=3.8.3->alpaca-trade-api) (1.20.1)\n",
            "Requirement already satisfied: python-dateutil>=2.8.2 in /usr/local/lib/python3.11/dist-packages (from pandas>=0.18.1->alpaca-trade-api) (2.9.0.post0)\n",
            "Requirement already satisfied: pytz>=2020.1 in /usr/local/lib/python3.11/dist-packages (from pandas>=0.18.1->alpaca-trade-api) (2025.2)\n",
            "Requirement already satisfied: tzdata>=2022.7 in /usr/local/lib/python3.11/dist-packages (from pandas>=0.18.1->alpaca-trade-api) (2025.2)\n",
            "Requirement already satisfied: charset-normalizer<4,>=2 in /usr/local/lib/python3.11/dist-packages (from requests<3,>2->alpaca-trade-api) (3.4.2)\n",
            "Requirement already satisfied: idna<4,>=2.5 in /usr/local/lib/python3.11/dist-packages (from requests<3,>2->alpaca-trade-api) (3.10)\n",
            "Requirement already satisfied: certifi>=2017.4.17 in /usr/local/lib/python3.11/dist-packages (from requests<3,>2->alpaca-trade-api) (2025.8.3)\n",
            "Requirement already satisfied: typing-extensions>=4.2 in /usr/local/lib/python3.11/dist-packages (from aiosignal>=1.4.0->aiohttp<4,>=3.8.3->alpaca-trade-api) (4.14.1)\n",
            "Requirement already satisfied: six>=1.5 in /usr/local/lib/python3.11/dist-packages (from python-dateutil>=2.8.2->pandas>=0.18.1->alpaca-trade-api) (1.17.0)\n",
            "Downloading alpaca_trade_api-3.2.0-py3-none-any.whl (34 kB)\n",
            "Downloading deprecation-2.1.0-py2.py3-none-any.whl (11 kB)\n",
            "Downloading PyYAML-6.0.1-cp311-cp311-manylinux_2_17_x86_64.manylinux2014_x86_64.whl (757 kB)\n",
            "\u001b[2K   \u001b[90m━━━━━━━━━━━━━━━━━━━━━━━━━━━━━━━━━━━━━━━━\u001b[0m \u001b[32m757.7/757.7 kB\u001b[0m \u001b[31m16.4 MB/s\u001b[0m eta \u001b[36m0:00:00\u001b[0m\n",
            "\u001b[?25hDownloading urllib3-1.26.20-py2.py3-none-any.whl (144 kB)\n",
            "\u001b[2K   \u001b[90m━━━━━━━━━━━━━━━━━━━━━━━━━━━━━━━━━━━━━━━━\u001b[0m \u001b[32m144.2/144.2 kB\u001b[0m \u001b[31m10.1 MB/s\u001b[0m eta \u001b[36m0:00:00\u001b[0m\n",
            "\u001b[?25hDownloading websockets-10.4-cp311-cp311-manylinux_2_5_x86_64.manylinux1_x86_64.manylinux_2_17_x86_64.manylinux2014_x86_64.whl (107 kB)\n",
            "\u001b[2K   \u001b[90m━━━━━━━━━━━━━━━━━━━━━━━━━━━━━━━━━━━━━━━━\u001b[0m \u001b[32m107.4/107.4 kB\u001b[0m \u001b[31m7.3 MB/s\u001b[0m eta \u001b[36m0:00:00\u001b[0m\n",
            "\u001b[?25hBuilding wheels for collected packages: msgpack\n",
            "  Building wheel for msgpack (setup.py) ... \u001b[?25l\u001b[?25hdone\n",
            "  Created wheel for msgpack: filename=msgpack-1.0.3-cp311-cp311-linux_x86_64.whl size=15688 sha256=85f07a572ecc7b301d04127cddb8550b610fb66cd1e50596aaab2b853dc1c5ab\n",
            "  Stored in directory: /root/.cache/pip/wheels/f6/35/da/ed9b26b510235e00e3a3c3bab7bad97b59214729662255ab3d\n",
            "Successfully built msgpack\n",
            "Installing collected packages: msgpack, websockets, urllib3, PyYAML, deprecation, alpaca-trade-api\n",
            "  Attempting uninstall: msgpack\n",
            "    Found existing installation: msgpack 1.1.1\n",
            "    Uninstalling msgpack-1.1.1:\n",
            "      Successfully uninstalled msgpack-1.1.1\n",
            "  Attempting uninstall: websockets\n",
            "    Found existing installation: websockets 15.0.1\n",
            "    Uninstalling websockets-15.0.1:\n",
            "      Successfully uninstalled websockets-15.0.1\n",
            "  Attempting uninstall: urllib3\n",
            "    Found existing installation: urllib3 2.5.0\n",
            "    Uninstalling urllib3-2.5.0:\n",
            "      Successfully uninstalled urllib3-2.5.0\n",
            "  Attempting uninstall: PyYAML\n",
            "    Found existing installation: PyYAML 6.0.2\n",
            "    Uninstalling PyYAML-6.0.2:\n",
            "      Successfully uninstalled PyYAML-6.0.2\n",
            "\u001b[31mERROR: pip's dependency resolver does not currently take into account all the packages that are installed. This behaviour is the source of the following dependency conflicts.\n",
            "yfinance 0.2.65 requires websockets>=13.0, but you have websockets 10.4 which is incompatible.\n",
            "dataproc-spark-connect 0.8.3 requires websockets>=14.0, but you have websockets 10.4 which is incompatible.\n",
            "google-genai 1.28.0 requires websockets<15.1.0,>=13.0.0, but you have websockets 10.4 which is incompatible.\u001b[0m\u001b[31m\n",
            "\u001b[0mSuccessfully installed PyYAML-6.0.1 alpaca-trade-api-3.2.0 deprecation-2.1.0 msgpack-1.0.3 urllib3-1.26.20 websockets-10.4\n",
            "/bin/bash: line 1: 15.1.0: No such file or directory\n",
            "Requirement already satisfied: langchain in /usr/local/lib/python3.11/dist-packages (0.3.27)\n",
            "Collecting langchain-google-genai\n",
            "  Downloading langchain_google_genai-2.1.9-py3-none-any.whl.metadata (7.2 kB)\n",
            "Collecting python-dotenv\n",
            "  Downloading python_dotenv-1.1.1-py3-none-any.whl.metadata (24 kB)\n",
            "Requirement already satisfied: langchain-core<1.0.0,>=0.3.72 in /usr/local/lib/python3.11/dist-packages (from langchain) (0.3.72)\n",
            "Requirement already satisfied: langchain-text-splitters<1.0.0,>=0.3.9 in /usr/local/lib/python3.11/dist-packages (from langchain) (0.3.9)\n",
            "Requirement already satisfied: langsmith>=0.1.17 in /usr/local/lib/python3.11/dist-packages (from langchain) (0.4.12)\n",
            "Requirement already satisfied: pydantic<3.0.0,>=2.7.4 in /usr/local/lib/python3.11/dist-packages (from langchain) (2.11.7)\n",
            "Requirement already satisfied: SQLAlchemy<3,>=1.4 in /usr/local/lib/python3.11/dist-packages (from langchain) (2.0.42)\n",
            "Requirement already satisfied: requests<3,>=2 in /usr/local/lib/python3.11/dist-packages (from langchain) (2.32.3)\n",
            "Requirement already satisfied: PyYAML>=5.3 in /usr/local/lib/python3.11/dist-packages (from langchain) (6.0.1)\n",
            "Collecting filetype<2.0.0,>=1.2.0 (from langchain-google-genai)\n",
            "  Downloading filetype-1.2.0-py2.py3-none-any.whl.metadata (6.5 kB)\n",
            "Collecting google-ai-generativelanguage<0.7.0,>=0.6.18 (from langchain-google-genai)\n",
            "  Downloading google_ai_generativelanguage-0.6.18-py3-none-any.whl.metadata (9.8 kB)\n",
            "Requirement already satisfied: google-api-core!=2.0.*,!=2.1.*,!=2.10.*,!=2.2.*,!=2.3.*,!=2.4.*,!=2.5.*,!=2.6.*,!=2.7.*,!=2.8.*,!=2.9.*,<3.0.0,>=1.34.1 in /usr/local/lib/python3.11/dist-packages (from google-api-core[grpc]!=2.0.*,!=2.1.*,!=2.10.*,!=2.2.*,!=2.3.*,!=2.4.*,!=2.5.*,!=2.6.*,!=2.7.*,!=2.8.*,!=2.9.*,<3.0.0,>=1.34.1->google-ai-generativelanguage<0.7.0,>=0.6.18->langchain-google-genai) (2.25.1)\n",
            "Requirement already satisfied: google-auth!=2.24.0,!=2.25.0,<3.0.0,>=2.14.1 in /usr/local/lib/python3.11/dist-packages (from google-ai-generativelanguage<0.7.0,>=0.6.18->langchain-google-genai) (2.38.0)\n",
            "Requirement already satisfied: proto-plus<2.0.0,>=1.22.3 in /usr/local/lib/python3.11/dist-packages (from google-ai-generativelanguage<0.7.0,>=0.6.18->langchain-google-genai) (1.26.1)\n",
            "Requirement already satisfied: protobuf!=4.21.0,!=4.21.1,!=4.21.2,!=4.21.3,!=4.21.4,!=4.21.5,<7.0.0,>=3.20.2 in /usr/local/lib/python3.11/dist-packages (from google-ai-generativelanguage<0.7.0,>=0.6.18->langchain-google-genai) (5.29.5)\n",
            "Requirement already satisfied: tenacity!=8.4.0,<10.0.0,>=8.1.0 in /usr/local/lib/python3.11/dist-packages (from langchain-core<1.0.0,>=0.3.72->langchain) (8.5.0)\n",
            "Requirement already satisfied: jsonpatch<2.0,>=1.33 in /usr/local/lib/python3.11/dist-packages (from langchain-core<1.0.0,>=0.3.72->langchain) (1.33)\n",
            "Requirement already satisfied: typing-extensions>=4.7 in /usr/local/lib/python3.11/dist-packages (from langchain-core<1.0.0,>=0.3.72->langchain) (4.14.1)\n",
            "Requirement already satisfied: packaging>=23.2 in /usr/local/lib/python3.11/dist-packages (from langchain-core<1.0.0,>=0.3.72->langchain) (25.0)\n",
            "Requirement already satisfied: httpx<1,>=0.23.0 in /usr/local/lib/python3.11/dist-packages (from langsmith>=0.1.17->langchain) (0.28.1)\n",
            "Requirement already satisfied: orjson>=3.9.14 in /usr/local/lib/python3.11/dist-packages (from langsmith>=0.1.17->langchain) (3.11.1)\n",
            "Requirement already satisfied: requests-toolbelt>=1.0.0 in /usr/local/lib/python3.11/dist-packages (from langsmith>=0.1.17->langchain) (1.0.0)\n",
            "Requirement already satisfied: zstandard>=0.23.0 in /usr/local/lib/python3.11/dist-packages (from langsmith>=0.1.17->langchain) (0.23.0)\n",
            "Requirement already satisfied: annotated-types>=0.6.0 in /usr/local/lib/python3.11/dist-packages (from pydantic<3.0.0,>=2.7.4->langchain) (0.7.0)\n",
            "Requirement already satisfied: pydantic-core==2.33.2 in /usr/local/lib/python3.11/dist-packages (from pydantic<3.0.0,>=2.7.4->langchain) (2.33.2)\n",
            "Requirement already satisfied: typing-inspection>=0.4.0 in /usr/local/lib/python3.11/dist-packages (from pydantic<3.0.0,>=2.7.4->langchain) (0.4.1)\n",
            "Requirement already satisfied: charset-normalizer<4,>=2 in /usr/local/lib/python3.11/dist-packages (from requests<3,>=2->langchain) (3.4.2)\n",
            "Requirement already satisfied: idna<4,>=2.5 in /usr/local/lib/python3.11/dist-packages (from requests<3,>=2->langchain) (3.10)\n",
            "Requirement already satisfied: urllib3<3,>=1.21.1 in /usr/local/lib/python3.11/dist-packages (from requests<3,>=2->langchain) (1.26.20)\n",
            "Requirement already satisfied: certifi>=2017.4.17 in /usr/local/lib/python3.11/dist-packages (from requests<3,>=2->langchain) (2025.8.3)\n",
            "Requirement already satisfied: greenlet>=1 in /usr/local/lib/python3.11/dist-packages (from SQLAlchemy<3,>=1.4->langchain) (3.2.3)\n",
            "Requirement already satisfied: googleapis-common-protos<2.0.0,>=1.56.2 in /usr/local/lib/python3.11/dist-packages (from google-api-core!=2.0.*,!=2.1.*,!=2.10.*,!=2.2.*,!=2.3.*,!=2.4.*,!=2.5.*,!=2.6.*,!=2.7.*,!=2.8.*,!=2.9.*,<3.0.0,>=1.34.1->google-api-core[grpc]!=2.0.*,!=2.1.*,!=2.10.*,!=2.2.*,!=2.3.*,!=2.4.*,!=2.5.*,!=2.6.*,!=2.7.*,!=2.8.*,!=2.9.*,<3.0.0,>=1.34.1->google-ai-generativelanguage<0.7.0,>=0.6.18->langchain-google-genai) (1.70.0)\n",
            "Requirement already satisfied: grpcio<2.0.0,>=1.33.2 in /usr/local/lib/python3.11/dist-packages (from google-api-core[grpc]!=2.0.*,!=2.1.*,!=2.10.*,!=2.2.*,!=2.3.*,!=2.4.*,!=2.5.*,!=2.6.*,!=2.7.*,!=2.8.*,!=2.9.*,<3.0.0,>=1.34.1->google-ai-generativelanguage<0.7.0,>=0.6.18->langchain-google-genai) (1.74.0)\n",
            "Requirement already satisfied: grpcio-status<2.0.0,>=1.33.2 in /usr/local/lib/python3.11/dist-packages (from google-api-core[grpc]!=2.0.*,!=2.1.*,!=2.10.*,!=2.2.*,!=2.3.*,!=2.4.*,!=2.5.*,!=2.6.*,!=2.7.*,!=2.8.*,!=2.9.*,<3.0.0,>=1.34.1->google-ai-generativelanguage<0.7.0,>=0.6.18->langchain-google-genai) (1.71.2)\n",
            "Requirement already satisfied: cachetools<6.0,>=2.0.0 in /usr/local/lib/python3.11/dist-packages (from google-auth!=2.24.0,!=2.25.0,<3.0.0,>=2.14.1->google-ai-generativelanguage<0.7.0,>=0.6.18->langchain-google-genai) (5.5.2)\n",
            "Requirement already satisfied: pyasn1-modules>=0.2.1 in /usr/local/lib/python3.11/dist-packages (from google-auth!=2.24.0,!=2.25.0,<3.0.0,>=2.14.1->google-ai-generativelanguage<0.7.0,>=0.6.18->langchain-google-genai) (0.4.2)\n",
            "Requirement already satisfied: rsa<5,>=3.1.4 in /usr/local/lib/python3.11/dist-packages (from google-auth!=2.24.0,!=2.25.0,<3.0.0,>=2.14.1->google-ai-generativelanguage<0.7.0,>=0.6.18->langchain-google-genai) (4.9.1)\n",
            "Requirement already satisfied: anyio in /usr/local/lib/python3.11/dist-packages (from httpx<1,>=0.23.0->langsmith>=0.1.17->langchain) (4.10.0)\n",
            "Requirement already satisfied: httpcore==1.* in /usr/local/lib/python3.11/dist-packages (from httpx<1,>=0.23.0->langsmith>=0.1.17->langchain) (1.0.9)\n",
            "Requirement already satisfied: h11>=0.16 in /usr/local/lib/python3.11/dist-packages (from httpcore==1.*->httpx<1,>=0.23.0->langsmith>=0.1.17->langchain) (0.16.0)\n",
            "Requirement already satisfied: jsonpointer>=1.9 in /usr/local/lib/python3.11/dist-packages (from jsonpatch<2.0,>=1.33->langchain-core<1.0.0,>=0.3.72->langchain) (3.0.0)\n",
            "Requirement already satisfied: pyasn1<0.7.0,>=0.6.1 in /usr/local/lib/python3.11/dist-packages (from pyasn1-modules>=0.2.1->google-auth!=2.24.0,!=2.25.0,<3.0.0,>=2.14.1->google-ai-generativelanguage<0.7.0,>=0.6.18->langchain-google-genai) (0.6.1)\n",
            "Requirement already satisfied: sniffio>=1.1 in /usr/local/lib/python3.11/dist-packages (from anyio->httpx<1,>=0.23.0->langsmith>=0.1.17->langchain) (1.3.1)\n",
            "Downloading langchain_google_genai-2.1.9-py3-none-any.whl (49 kB)\n",
            "\u001b[2K   \u001b[90m━━━━━━━━━━━━━━━━━━━━━━━━━━━━━━━━━━━━━━━━\u001b[0m \u001b[32m49.4/49.4 kB\u001b[0m \u001b[31m2.7 MB/s\u001b[0m eta \u001b[36m0:00:00\u001b[0m\n",
            "\u001b[?25hDownloading python_dotenv-1.1.1-py3-none-any.whl (20 kB)\n",
            "Downloading filetype-1.2.0-py2.py3-none-any.whl (19 kB)\n",
            "Downloading google_ai_generativelanguage-0.6.18-py3-none-any.whl (1.4 MB)\n",
            "\u001b[2K   \u001b[90m━━━━━━━━━━━━━━━━━━━━━━━━━━━━━━━━━━━━━━━━\u001b[0m \u001b[32m1.4/1.4 MB\u001b[0m \u001b[31m23.0 MB/s\u001b[0m eta \u001b[36m0:00:00\u001b[0m\n",
            "\u001b[?25hInstalling collected packages: filetype, python-dotenv, google-ai-generativelanguage, langchain-google-genai\n",
            "  Attempting uninstall: google-ai-generativelanguage\n",
            "    Found existing installation: google-ai-generativelanguage 0.6.15\n",
            "    Uninstalling google-ai-generativelanguage-0.6.15:\n",
            "      Successfully uninstalled google-ai-generativelanguage-0.6.15\n",
            "\u001b[31mERROR: pip's dependency resolver does not currently take into account all the packages that are installed. This behaviour is the source of the following dependency conflicts.\n",
            "google-generativeai 0.8.5 requires google-ai-generativelanguage==0.6.15, but you have google-ai-generativelanguage 0.6.18 which is incompatible.\u001b[0m\u001b[31m\n",
            "\u001b[0mSuccessfully installed filetype-1.2.0 google-ai-generativelanguage-0.6.18 langchain-google-genai-2.1.9 python-dotenv-1.1.1\n"
          ]
        },
        {
          "data": {
            "application/vnd.colab-display-data+json": {
              "id": "4abc8353193d427e9608bb9798987b53",
              "pip_warning": {
                "packages": [
                  "google"
                ]
              }
            }
          },
          "metadata": {},
          "output_type": "display_data"
        },
        {
          "name": "stdout",
          "output_type": "stream",
          "text": [
            "Requirement already satisfied: yfinance in /usr/local/lib/python3.11/dist-packages (0.2.65)\n",
            "Requirement already satisfied: pandas>=1.3.0 in /usr/local/lib/python3.11/dist-packages (from yfinance) (2.2.2)\n",
            "Requirement already satisfied: numpy>=1.16.5 in /usr/local/lib/python3.11/dist-packages (from yfinance) (2.0.2)\n",
            "Requirement already satisfied: requests>=2.31 in /usr/local/lib/python3.11/dist-packages (from yfinance) (2.32.3)\n",
            "Requirement already satisfied: multitasking>=0.0.7 in /usr/local/lib/python3.11/dist-packages (from yfinance) (0.0.12)\n",
            "Requirement already satisfied: platformdirs>=2.0.0 in /usr/local/lib/python3.11/dist-packages (from yfinance) (4.3.8)\n",
            "Requirement already satisfied: pytz>=2022.5 in /usr/local/lib/python3.11/dist-packages (from yfinance) (2025.2)\n",
            "Requirement already satisfied: frozendict>=2.3.4 in /usr/local/lib/python3.11/dist-packages (from yfinance) (2.4.6)\n",
            "Requirement already satisfied: peewee>=3.16.2 in /usr/local/lib/python3.11/dist-packages (from yfinance) (3.18.2)\n",
            "Requirement already satisfied: beautifulsoup4>=4.11.1 in /usr/local/lib/python3.11/dist-packages (from yfinance) (4.13.4)\n",
            "Requirement already satisfied: curl_cffi>=0.7 in /usr/local/lib/python3.11/dist-packages (from yfinance) (0.13.0)\n",
            "Requirement already satisfied: protobuf>=3.19.0 in /usr/local/lib/python3.11/dist-packages (from yfinance) (5.29.5)\n",
            "Collecting websockets>=13.0 (from yfinance)\n",
            "  Downloading websockets-15.0.1-cp311-cp311-manylinux_2_5_x86_64.manylinux1_x86_64.manylinux_2_17_x86_64.manylinux2014_x86_64.whl.metadata (6.8 kB)\n",
            "Requirement already satisfied: soupsieve>1.2 in /usr/local/lib/python3.11/dist-packages (from beautifulsoup4>=4.11.1->yfinance) (2.7)\n",
            "Requirement already satisfied: typing-extensions>=4.0.0 in /usr/local/lib/python3.11/dist-packages (from beautifulsoup4>=4.11.1->yfinance) (4.14.1)\n",
            "Requirement already satisfied: cffi>=1.12.0 in /usr/local/lib/python3.11/dist-packages (from curl_cffi>=0.7->yfinance) (1.17.1)\n",
            "Requirement already satisfied: certifi>=2024.2.2 in /usr/local/lib/python3.11/dist-packages (from curl_cffi>=0.7->yfinance) (2025.8.3)\n",
            "Requirement already satisfied: python-dateutil>=2.8.2 in /usr/local/lib/python3.11/dist-packages (from pandas>=1.3.0->yfinance) (2.9.0.post0)\n",
            "Requirement already satisfied: tzdata>=2022.7 in /usr/local/lib/python3.11/dist-packages (from pandas>=1.3.0->yfinance) (2025.2)\n",
            "Requirement already satisfied: charset-normalizer<4,>=2 in /usr/local/lib/python3.11/dist-packages (from requests>=2.31->yfinance) (3.4.2)\n",
            "Requirement already satisfied: idna<4,>=2.5 in /usr/local/lib/python3.11/dist-packages (from requests>=2.31->yfinance) (3.10)\n",
            "Requirement already satisfied: urllib3<3,>=1.21.1 in /usr/local/lib/python3.11/dist-packages (from requests>=2.31->yfinance) (1.26.20)\n",
            "Requirement already satisfied: pycparser in /usr/local/lib/python3.11/dist-packages (from cffi>=1.12.0->curl_cffi>=0.7->yfinance) (2.22)\n",
            "Requirement already satisfied: six>=1.5 in /usr/local/lib/python3.11/dist-packages (from python-dateutil>=2.8.2->pandas>=1.3.0->yfinance) (1.17.0)\n",
            "Downloading websockets-15.0.1-cp311-cp311-manylinux_2_5_x86_64.manylinux1_x86_64.manylinux_2_17_x86_64.manylinux2014_x86_64.whl (182 kB)\n",
            "\u001b[2K   \u001b[90m━━━━━━━━━━━━━━━━━━━━━━━━━━━━━━━━━━━━━━━━\u001b[0m \u001b[32m182.3/182.3 kB\u001b[0m \u001b[31m3.0 MB/s\u001b[0m eta \u001b[36m0:00:00\u001b[0m\n",
            "\u001b[?25hInstalling collected packages: websockets\n",
            "  Attempting uninstall: websockets\n",
            "    Found existing installation: websockets 10.4\n",
            "    Uninstalling websockets-10.4:\n",
            "      Successfully uninstalled websockets-10.4\n",
            "\u001b[31mERROR: pip's dependency resolver does not currently take into account all the packages that are installed. This behaviour is the source of the following dependency conflicts.\n",
            "alpaca-trade-api 3.2.0 requires websockets<11,>=9.0, but you have websockets 15.0.1 which is incompatible.\u001b[0m\u001b[31m\n",
            "\u001b[0mSuccessfully installed websockets-15.0.1\n"
          ]
        }
      ],
      "source": [
        "!pip install newsapi-python\n",
        "!pip install alpaca-trade-api\n",
        "!pip install websockets>=13.0.0,<15.1.0\n",
        "!pip install langchain langchain-google-genai python-dotenv\n",
        "!pip install yfinance"
      ]
    },
    {
      "cell_type": "code",
      "execution_count": 5,
      "metadata": {
        "id": "GdsLvPDwaIln"
      },
      "outputs": [],
      "source": [
        "import yfinance as yf\n",
        "import pandas as pd\n",
        "from newsapi import NewsApiClient\n",
        "import datetime as dt\n",
        "import torch\n",
        "from transformers import AutoTokenizer, AutoModelForSequenceClassification"
      ]
    },
    {
      "cell_type": "code",
      "execution_count": 6,
      "metadata": {
        "id": "60xnu0x7WP1x"
      },
      "outputs": [],
      "source": [
        "from langchain.agents import tool\n",
        "from langchain_google_genai import ChatGoogleGenerativeAI\n",
        "from langchain.agents import AgentExecutor, create_react_agent\n",
        "from langchain import hub"
      ]
    },
    {
      "cell_type": "code",
      "execution_count": 20,
      "metadata": {
        "id": "kPgEpXIdk_Pa"
      },
      "outputs": [],
      "source": [
        "import alpaca_trade_api as tradeapi"
      ]
    },
    {
      "cell_type": "code",
      "execution_count": null,
      "metadata": {
        "id": "FYZpAEcvnwEO"
      },
      "outputs": [],
      "source": [
        "NEWS_API_KEY = None\n",
        "OPENAI_API_KEY = None\n",
        "GEMINI_API_KEY = None\n",
        "ALPACA_API_KEY = None\n",
        "ALPACA_SECRET_KEY = None"
      ]
    },
    {
      "cell_type": "code",
      "execution_count": 8,
      "metadata": {
        "id": "KKE5qgsvfrfl"
      },
      "outputs": [],
      "source": [
        "@tool\n",
        "def get_stock_data(ticker_symbol: str) -> str:\n",
        "    \"\"\"\n",
        "    Use this tool to get the latest stock price data for a company.\n",
        "    The input should be the company's ticker symbol (e.g., AAPL, GOOGL).\n",
        "    \"\"\"\n",
        "    # Create a Ticker object for the stock\n",
        "    stock = yf.Ticker(ticker_symbol)\n",
        "\n",
        "    # Get historical market data\n",
        "    # Common periods are \"1d\", \"5d\", \"1mo\", \"3mo\", \"6mo\", \"1y\", \"5y\", \"max\"\n",
        "    hist_data = stock.history(period=\"1mo\")\n",
        "\n",
        "    print(f\"--- Historical Stock Prices for {ticker_symbol} ---\")\n",
        "    print(hist_data.head()) # .head() shows the first 5 rows\n",
        "\n",
        "    return hist_data"
      ]
    },
    {
      "cell_type": "code",
      "execution_count": 9,
      "metadata": {
        "id": "R_rwqKFVlSzd"
      },
      "outputs": [],
      "source": [
        "@tool\n",
        "def get_news_articles(query: str) -> str:\n",
        "    \"\"\"\n",
        "    Use this tool to get recent news articles for a company or topic.\n",
        "    The input should be the company name or a search query (e.g., Apple Inc, Tesla electric vehicles).\n",
        "    \"\"\"\n",
        "    # Initialize the News API client\n",
        "    newsapi = NewsApiClient(api_key=NEWS_API_KEY)\n",
        "\n",
        "    # Calculate yesterday's date for the query\n",
        "    yesterday = (dt.date.today() - dt.timedelta(days=1)).strftime('%Y-%m-%d')\n",
        "\n",
        "    # Fetch the news\n",
        "    # We search for the query in English, sorted by relevancy\n",
        "    all_articles = newsapi.get_everything(\n",
        "        q=query,\n",
        "        language='en',\n",
        "        sort_by='relevancy',\n",
        "        from_param=yesterday # Get news from the last 24 hours\n",
        "    )\n",
        "\n",
        "    print(f\"\\n--- Recent News for {query} ---\")\n",
        "    # Print the titles of the first 5 articles\n",
        "    for article in all_articles['articles'][:5]:\n",
        "        print(f\"Title: {article['title']}\")\n",
        "        print(f\"Source: {article['source']['name']}\")\n",
        "        print(\"-\" * 100)\n",
        "\n",
        "    return all_articles['articles']\n",
        "\n",
        "\n"
      ]
    },
    {
      "cell_type": "code",
      "execution_count": 10,
      "metadata": {
        "id": "ov99PAZOoHaW"
      },
      "outputs": [],
      "source": [
        "@tool\n",
        "def analyze_sentiment(text: str) -> str:\n",
        "    \"\"\"\n",
        "    Use this tool to analyze the sentiment of a piece of text (like news headlines).\n",
        "    The input should be the text you want to analyze.\n",
        "    \"\"\"\n",
        "    tokenizer = AutoTokenizer.from_pretrained(\"ProsusAI/finbert\")\n",
        "    model = AutoModelForSequenceClassification.from_pretrained(\"ProsusAI/finbert\")\n",
        "    inputs = tokenizer(text, padding=True, truncation=True, return_tensors='pt')\n",
        "    outputs = model(**inputs)\n",
        "    prediction_probs = torch.nn.functional.softmax(outputs.logits, dim=-1)\n",
        "\n",
        "    positive = prediction_probs[0][0].item()\n",
        "    negative = prediction_probs[0][1].item()\n",
        "    neutral = prediction_probs[0][2].item()\n",
        "\n",
        "    return f\"Sentiment Analysis: Positive: {positive:.2f}, Negative: {negative:.2f}, Neutral: {neutral:.2f}\""
      ]
    },
    {
      "cell_type": "code",
      "execution_count": 11,
      "metadata": {
        "id": "DRjkioOXPeFn"
      },
      "outputs": [],
      "source": [
        "tools = [get_stock_data, get_news_articles, analyze_sentiment]"
      ]
    },
    {
      "cell_type": "code",
      "execution_count": 12,
      "metadata": {
        "id": "nnI4wvxaZAUN"
      },
      "outputs": [],
      "source": [
        "llm = ChatGoogleGenerativeAI(model=\"gemini-2.5-flash\", api_key=GEMINI_API_KEY, temperature=0)"
      ]
    },
    {
      "cell_type": "code",
      "execution_count": 13,
      "metadata": {
        "colab": {
          "base_uri": "https://localhost:8080/"
        },
        "id": "RyIP_SdYZDjn",
        "outputId": "f727f7cd-0b9d-415d-8497-5b8bad069f40"
      },
      "outputs": [
        {
          "name": "stderr",
          "output_type": "stream",
          "text": [
            "/usr/local/lib/python3.11/dist-packages/langsmith/client.py:272: LangSmithMissingAPIKeyWarning: API key must be provided when using hosted LangSmith API\n",
            "  warnings.warn(\n"
          ]
        }
      ],
      "source": [
        "prompt = hub.pull(\"hwchase17/react\")"
      ]
    },
    {
      "cell_type": "code",
      "execution_count": 14,
      "metadata": {
        "id": "ZE3D-BnAZJwO"
      },
      "outputs": [],
      "source": [
        "agent = create_react_agent(llm, tools, prompt)"
      ]
    },
    {
      "cell_type": "code",
      "execution_count": 15,
      "metadata": {
        "id": "lX574B7vZQjh"
      },
      "outputs": [],
      "source": [
        "agent_executor = AgentExecutor(agent=agent, tools=tools, handle_parsing_errors=True, verbose=True)"
      ]
    },
    {
      "cell_type": "code",
      "execution_count": 35,
      "metadata": {
        "colab": {
          "base_uri": "https://localhost:8080/"
        },
        "collapsed": true,
        "id": "lI76RloFkOzS",
        "outputId": "f38024ef-c9da-4bd5-841f-2360af982cae"
      },
      "outputs": [
        {
          "name": "stdout",
          "output_type": "stream",
          "text": [
            "--- Generating Report for NVIDIA Corp ---\n",
            "\n",
            "\n",
            "\u001b[1m> Entering new AgentExecutor chain...\u001b[0m\n",
            "\u001b[32;1m\u001b[1;3mAction: get_stock_data\n",
            "Action Input: NVDA\u001b[0m--- Historical Stock Prices for NVDA ---\n",
            "                                 Open        High         Low       Close  \\\n",
            "Date                                                                        \n",
            "2025-07-09 00:00:00-04:00  161.220001  164.419998  161.160004  162.880005   \n",
            "2025-07-10 00:00:00-04:00  164.320007  164.500000  161.610001  164.100006   \n",
            "2025-07-11 00:00:00-04:00  163.720001  167.889999  163.470001  164.919998   \n",
            "2025-07-14 00:00:00-04:00  165.369995  165.490005  162.020004  164.070007   \n",
            "2025-07-15 00:00:00-04:00  171.190002  172.399994  169.199997  170.699997   \n",
            "\n",
            "                              Volume  Dividends  Stock Splits  \n",
            "Date                                                           \n",
            "2025-07-09 00:00:00-04:00  183656400        0.0           0.0  \n",
            "2025-07-10 00:00:00-04:00  167704100        0.0           0.0  \n",
            "2025-07-11 00:00:00-04:00  193633300        0.0           0.0  \n",
            "2025-07-14 00:00:00-04:00  136975800        0.0           0.0  \n",
            "2025-07-15 00:00:00-04:00  230627400        0.0           0.0  \n",
            "\u001b[36;1m\u001b[1;3m                                 Open        High         Low       Close  \\\n",
            "Date                                                                        \n",
            "2025-07-09 00:00:00-04:00  161.220001  164.419998  161.160004  162.880005   \n",
            "2025-07-10 00:00:00-04:00  164.320007  164.500000  161.610001  164.100006   \n",
            "2025-07-11 00:00:00-04:00  163.720001  167.889999  163.470001  164.919998   \n",
            "2025-07-14 00:00:00-04:00  165.369995  165.490005  162.020004  164.070007   \n",
            "2025-07-15 00:00:00-04:00  171.190002  172.399994  169.199997  170.699997   \n",
            "2025-07-16 00:00:00-04:00  171.059998  171.750000  168.899994  171.369995   \n",
            "2025-07-17 00:00:00-04:00  172.020004  174.160004  170.830002  173.000000   \n",
            "2025-07-18 00:00:00-04:00  173.639999  174.250000  171.259995  172.410004   \n",
            "2025-07-21 00:00:00-04:00  172.750000  173.380005  171.000000  171.380005   \n",
            "2025-07-22 00:00:00-04:00  171.339996  171.389999  164.580002  167.029999   \n",
            "2025-07-23 00:00:00-04:00  169.529999  171.259995  167.970001  170.779999   \n",
            "2025-07-24 00:00:00-04:00  172.440002  173.830002  171.300003  173.740005   \n",
            "2025-07-25 00:00:00-04:00  173.610001  174.720001  172.960007  173.500000   \n",
            "2025-07-28 00:00:00-04:00  174.020004  177.000000  173.970001  176.750000   \n",
            "2025-07-29 00:00:00-04:00  177.960007  179.380005  175.020004  175.509995   \n",
            "2025-07-30 00:00:00-04:00  176.509995  179.889999  176.039993  179.270004   \n",
            "2025-07-31 00:00:00-04:00  182.899994  183.300003  175.929993  177.869995   \n",
            "2025-08-01 00:00:00-04:00  174.089996  176.539993  170.889999  173.720001   \n",
            "2025-08-04 00:00:00-04:00  175.160004  180.199997  174.520004  180.000000   \n",
            "2025-08-05 00:00:00-04:00  179.619995  180.259995  175.899994  178.259995   \n",
            "2025-08-06 00:00:00-04:00  176.330002  179.899994  176.250000  179.419998   \n",
            "2025-08-07 00:00:00-04:00  181.570007  183.880005  178.800003  180.770004   \n",
            "2025-08-08 00:00:00-04:00  181.550003  183.300003  180.399994  182.699997   \n",
            "\n",
            "                              Volume  Dividends  Stock Splits  \n",
            "Date                                                           \n",
            "2025-07-09 00:00:00-04:00  183656400        0.0           0.0  \n",
            "2025-07-10 00:00:00-04:00  167704100        0.0           0.0  \n",
            "2025-07-11 00:00:00-04:00  193633300        0.0           0.0  \n",
            "2025-07-14 00:00:00-04:00  136975800        0.0           0.0  \n",
            "2025-07-15 00:00:00-04:00  230627400        0.0           0.0  \n",
            "2025-07-16 00:00:00-04:00  158831500        0.0           0.0  \n",
            "2025-07-17 00:00:00-04:00  160841100        0.0           0.0  \n",
            "2025-07-18 00:00:00-04:00  146456400        0.0           0.0  \n",
            "2025-07-21 00:00:00-04:00  123126100        0.0           0.0  \n",
            "2025-07-22 00:00:00-04:00  193114300        0.0           0.0  \n",
            "2025-07-23 00:00:00-04:00  154082200        0.0           0.0  \n",
            "2025-07-24 00:00:00-04:00  128984600        0.0           0.0  \n",
            "2025-07-25 00:00:00-04:00  122316800        0.0           0.0  \n",
            "2025-07-28 00:00:00-04:00  140023500        0.0           0.0  \n",
            "2025-07-29 00:00:00-04:00  154077500        0.0           0.0  \n",
            "2025-07-30 00:00:00-04:00  174312200        0.0           0.0  \n",
            "2025-07-31 00:00:00-04:00  221685400        0.0           0.0  \n",
            "2025-08-01 00:00:00-04:00  204529000        0.0           0.0  \n",
            "2025-08-04 00:00:00-04:00  148174600        0.0           0.0  \n",
            "2025-08-05 00:00:00-04:00  156407600        0.0           0.0  \n",
            "2025-08-06 00:00:00-04:00  137192300        0.0           0.0  \n",
            "2025-08-07 00:00:00-04:00  151878400        0.0           0.0  \n",
            "2025-08-08 00:00:00-04:00  122765700        0.0           0.0  \u001b[0m\u001b[32;1m\u001b[1;3mAction: get_news_articles\n",
            "Action Input: NVIDIA Corp\u001b[0m\n",
            "--- Recent News for NVIDIA Corp ---\n",
            "Title: US allowed Nvidia chip sales after Trump-Huang meeting\n",
            "Source: Biztoc.com\n",
            "----------------------------------------------------------------------------------------------------\n",
            "\u001b[33;1m\u001b[1;3m[{'source': {'id': None, 'name': 'Biztoc.com'}, 'author': 'breakingthenews.net', 'title': 'US allowed Nvidia chip sales after Trump-Huang meeting', 'description': 'The United States has started granting Nvidia Corp. licenses to export its H20 chips to China directly after Nvidia CEO Jensen Huang (pictured) met with US President Donald Trump at the White House, w...', 'url': 'https://biztoc.com/x/66b4f8ce50e832c5', 'urlToImage': 'https://biztoc.com/cdn/66b4f8ce50e832c5_s.webp', 'publishedAt': '2025-08-09T02:42:48Z', 'content': 'The United States has started granting Nvidia Corp. licenses to export its H20 chips to China directly after Nvidia CEO Jensen Huang (pictured) met with US President Donald Trump at the White House, … [+69 chars]'}]\u001b[0m\u001b[32;1m\u001b[1;3mAction: analyze_sentiment\n",
            "Action Input: US allowed Nvidia chip sales after Trump-Huang meeting\u001b[0m\u001b[38;5;200m\u001b[1;3mSentiment Analysis: Positive: 0.66, Negative: 0.02, Neutral: 0.33\u001b[0m\u001b[32;1m\u001b[1;3mAction: get_news_articles\n",
            "Action Input: NVIDIA\u001b[0m\n",
            "--- Recent News for NVIDIA ---\n",
            "Title: US allowed Nvidia chip sales after Trump-Huang meeting\n",
            "Source: Biztoc.com\n",
            "----------------------------------------------------------------------------------------------------\n",
            "Title: Nvidia wins US approval to sell H20 chips to China\n",
            "Source: Biztoc.com\n",
            "----------------------------------------------------------------------------------------------------\n",
            "Title: What the windsurf sale means for the AI coding ecosystem\n",
            "Source: Substack.com\n",
            "----------------------------------------------------------------------------------------------------\n",
            "Title: US licenses Nvidia to export chips to China, official says\n",
            "Source: CNA\n",
            "----------------------------------------------------------------------------------------------------\n",
            "Title: Trump call to oust Intel CEO Tan could sidetrack chipmaker’s turnaround\n",
            "Source: The Indian Express\n",
            "----------------------------------------------------------------------------------------------------\n",
            "\u001b[33;1m\u001b[1;3m[{'source': {'id': None, 'name': 'Biztoc.com'}, 'author': 'breakingthenews.net', 'title': 'US allowed Nvidia chip sales after Trump-Huang meeting', 'description': 'The United States has started granting Nvidia Corp. licenses to export its H20 chips to China directly after Nvidia CEO Jensen Huang (pictured) met with US President Donald Trump at the White House, w...', 'url': 'https://biztoc.com/x/66b4f8ce50e832c5', 'urlToImage': 'https://biztoc.com/cdn/66b4f8ce50e832c5_s.webp', 'publishedAt': '2025-08-09T02:42:48Z', 'content': 'The United States has started granting Nvidia Corp. licenses to export its H20 chips to China directly after Nvidia CEO Jensen Huang (pictured) met with US President Donald Trump at the White House, … [+69 chars]'}, {'source': {'id': None, 'name': 'Biztoc.com'}, 'author': 'breakingthenews.net', 'title': 'Nvidia wins US approval to sell H20 chips to China', 'description': 'The United States has started granting Nvidia licenses to export its H20 chips to China after weeks of delay, the Financial Times reported, citing a United States official. \\nThe move reportedly came ...', 'url': 'https://biztoc.com/x/768bc15deac75d3f', 'urlToImage': 'https://biztoc.com/cdn/768bc15deac75d3f_s.webp', 'publishedAt': '2025-08-09T02:31:20Z', 'content': 'The United States has started granting Nvidia licenses to export its H20 chips to China after weeks of delay, the Financial Times reported, citing a United States official. The move reportedly came .… [+67 chars]'}, {'source': {'id': None, 'name': 'Substack.com'}, 'author': 'Ethan Ding', 'title': 'What the windsurf sale means for the AI coding ecosystem', 'description': 'what the windsurf sale means for the ai coding ecosystem', 'url': 'https://ethanding.substack.com/p/windsurf-gets-margin-called', 'urlToImage': 'https://substackcdn.com/image/fetch/$s_!VsZo!,w_1200,h_600,c_fill,f_jpg,q_auto:good,fl_progressive:steep,g_auto/https%3A%2F%2Fsubstack-post-media.s3.amazonaws.com%2Fpublic%2Fimages%2F75e55870-f188-4e4c-b2d6-fcf6ab675ca1_750x500.png', 'publishedAt': '2025-08-09T03:24:16Z', 'content': 'the $82 million ARR product nobody wanted\\r\\nimagine you relaunch your company twice, and manage to become one of the fastest-growing saas companies in history literally record-breaking. go from zero t… [+10848 chars]'}, {'source': {'id': None, 'name': 'CNA'}, 'author': None, 'title': 'US licenses Nvidia to export chips to China, official says', 'description': \"The commerce department has started issuing licenses to Nvidia to export its H20 chips to China, a US official told Reuters on Friday (Aug 8), removing a significant hurdle to the AI bellwether's access to a key market. The US last month reversed an April ban…\", 'url': 'https://www.channelnewsasia.com/business/us-nvidia-license-export-chips-china-h20-sale-5285951', 'urlToImage': 'https://dam.mediacorp.sg/image/upload/s--qxgZ8wZ7--/fl_relative,g_south_east,l_mediacorp:cna:watermark:2024-04:reuters_1,w_0.1/f_auto,q_auto/c_fill,g_auto,h_676,w_1200/v1/one-cms/core/2025-08-08t221538z_1_lynxmpel770wi_rtroptp_3_nvidia-results.jpg?itok=UQbx7D0z', 'publishedAt': '2025-08-09T06:05:33Z', 'content': \"The commerce department has started issuing licenses to Nvidia to export its H20 chips to China, a US official told Reuters on Friday (Aug 8), removing a significant hurdle to the AI bellwether's acc… [+1387 chars]\"}, {'source': {'id': None, 'name': 'The Indian Express'}, 'author': 'Reuters', 'title': 'Trump call to oust Intel CEO Tan could sidetrack chipmaker’s turnaround', 'description': 'AI chip market leader Nvidia and iPhone-maker Apple have committed hundreds of billions of dollars to expand domestic manufacturing', 'url': 'https://indianexpress.com/article/technology/trump-call-to-oust-intel-ceo-tan-could-sidetrack-chipmakers-turnaround-10178949/', 'urlToImage': 'https://images.indianexpress.com/2025/08/Untitled-design-57.jpg', 'publishedAt': '2025-08-09T05:15:55Z', 'content': 'Intel CEO Lip-Bu Tan is already facing an uphill battle in turning around the ailing chipmaker. Now, U.S. President Donald Trump’s demand that Tan resign over his ties to Chinese firms will only dist… [+4636 chars]'}, {'source': {'id': None, 'name': 'Yahoo Entertainment'}, 'author': 'Kayode Omotosho', 'title': 'RadNet (RDNT) Reports Q2: Everything You Need To Know Ahead Of Earnings', 'description': 'Diagnostic imaging company RadNet (NASDAQ:RDNT) will be announcing earnings results next tomorrow after market close. Here’s what to expect.', 'url': 'https://finance.yahoo.com/news/radnet-rdnt-reports-q2-everything-030053868.html', 'urlToImage': 'https://s.yimg.com/ny/api/res/1.2/W7HaMpEdD8X.qxcLppXLYQ--/YXBwaWQ9aGlnaGxhbmRlcjt3PTEyMDA7aD02MDA-/https://media.zenfs.com/en/stockstory_922/d3a6b555179f715480bdd682c01dca84', 'publishedAt': '2025-08-09T03:00:53Z', 'content': 'Diagnostic imaging company RadNet (NASDAQ:RDNT) will be announcing earnings results next tomorrow after market close. Heres what to expect.\\r\\nRadNet beat analysts revenue expectations by 6.4% last qua… [+2400 chars]'}, {'source': {'id': None, 'name': 'Naturalnews.com'}, 'author': 'Ramon Tomey', 'title': '2 Chinese nationals charged for illegally smuggling AI chips', 'description': 'Two Chinese nationals – Chuan Geng (U.S. permanent resident) and Shiwei Yang (visa overstay) – were arrested in Southern California for orchestrating a scheme to smuggle advanced AI microchips from the U.S. to China in violation of export controls under the E…', 'url': 'https://www.naturalnews.com/2025-08-09-chinese-nationals-charged-illegally-smuggling-ai-chips.html', 'urlToImage': 'https://www.naturalnews.com/wp-content/uploads/sites/91/2025/08/semiconductor-chip.jpg', 'publishedAt': '2025-08-09T06:00:00Z', 'content': '<ul><li>Two Chinese nationals Chuan Geng (U.S. permanent resident) and Shiwei Yang (visa overstay) were arrested in Southern California for orchestrating a scheme to smuggle advanced AI microchips fr… [+4876 chars]'}, {'source': {'id': None, 'name': 'Biztoc.com'}, 'author': 'benzinga.com', 'title': \"Nvidia's $8 Billion Loss May Be Averted As US Approves H20 Chip Exports To China Amid Trad Tensions: Report\", 'description': \"Nvidia Corporation's (NASDAQ:NVDA) plans to ship its H20 artificial intelligence chips to China have received a significant boost, as the U.S. Commerce Department has reportedly granted the company licenses to resume exports, potentially preventing an $8 bill…\", 'url': 'https://biztoc.com/x/24e51ca1c6ecdcc4', 'urlToImage': 'https://biztoc.com/cdn/950/og.png', 'publishedAt': '2025-08-09T02:31:28Z', 'content': \"Nvidia Corporation's (NASDAQ:NVDA) plans to ship its H20 artificial intelligence chips to China have received a significant boost, as the U.S. Commerce Department has reportedly granted the company l… [+142 chars]\"}, {'source': {'id': None, 'name': 'Biztoc.com'}, 'author': 'reuters.com', 'title': 'US licenses Nvidia to export chips to China, official says', 'description': '', 'url': 'https://biztoc.com/x/343ab0016c3774db', 'urlToImage': 'https://biztoc.com/cdn/950/og.png', 'publishedAt': '2025-08-09T06:14:22Z', 'content': '{ window.open(this.href, \\'_blank\\'); }, 200); return false;\"&gt;Why did the US license Nvidia chip exports to China? { window.open(this.href, \\'_blank\\'); }, 200); return false;\"&gt;How are Trump\\'s tari… [+770 chars]'}, {'source': {'id': 'hacker-news', 'name': 'Hacker News'}, 'author': 'pavelr', 'title': 'Running GPT-OSS-120B at 500 tokens per second on Nvidia GPUs | Hacker News', 'description': None, 'url': 'https://news.ycombinator.com/item?id=44819968', 'urlToImage': None, 'publishedAt': '2025-08-09T05:47:02Z', 'content': '\"Western\" != \"American\": I grew up in a country where even the police are not, and do not wish to be, routinely armed.Even then, there is an important difference between de-facto and de-jure rules. F… [+2332 chars]'}, {'source': {'id': None, 'name': 'Biztoc.com'}, 'author': 'ft.com', 'title': 'US licenses Nvidia to export chips to China after CEO meets Trump', 'description': 'A required part of this site couldn’t load. This may be due to a browser\\nextension, network issues, or browser settings. Please check your\\nconnection, disable any ad blockers, or try using a different browser.', 'url': 'https://biztoc.com/x/033c9ac4fc2ba0fb', 'urlToImage': 'https://biztoc.com/cdn/950/og.png', 'publishedAt': '2025-08-09T05:51:58Z', 'content': 'A required part of this site couldnt load. This may be due to a browserextension, network issues, or browser settings. Please check yourconnection, disable any ad blockers, or try using a different b… [+66 chars]'}, {'source': {'id': None, 'name': 'ETF Daily News'}, 'author': 'MarketBeat News', 'title': 'Promising Automotive Stocks To Follow Today – August 7th', 'description': 'NVIDIA, Tesla, Taiwan Semiconductor Manufacturing, Micron Technology, Salesforce, Costco Wholesale, and Bank of America are the seven Automotive stocks to watch today, according to MarketBeat’s stock screener tool. Automotive stocks are shares of publicly tra…', 'url': 'https://www.etfdailynews.com/2025/08/09/promising-automotive-stocks-to-follow-today-august-7th/', 'urlToImage': 'https://www.americanbankingnews.com/wp-content/timthumb/timthumb.php?src=https://www.marketbeat.com/logos/nvidia-co-logo-1200x675.jpg?v=20221020142916&w=240&h=240&zc=2', 'publishedAt': '2025-08-09T05:39:02Z', 'content': 'NVIDIA, Tesla, Taiwan Semiconductor Manufacturing, Micron Technology, Salesforce, Costco Wholesale, and Bank of America are the seven Automotive stocks to watch today, according to MarketBeat’s stock… [+8653 chars]'}, {'source': {'id': None, 'name': 'Biztoc.com'}, 'author': 'apnews.com', 'title': 'Packers star Billy Howton, believed to have been the oldest living NFL player, dies at 95', 'description': '', 'url': 'https://biztoc.com/x/6415141240fcd184', 'urlToImage': 'https://biztoc.com/cdn/950/og.png', 'publishedAt': '2025-08-09T05:51:56Z', 'content': '{ window.open(this.href, \\'_blank\\'); }, 200); return false;\"&gt;Why did the US license Nvidia chip exports to China? { window.open(this.href, \\'_blank\\'); }, 200); return false;\"&gt;How are Trump\\'s tari… [+764 chars]'}, {'source': {'id': None, 'name': 'Biztoc.com'}, 'author': 'barrons.com', 'title': 'Tech Tariffs Arrive. What They Mean for Apple, TSMC and Chip Stocks', 'description': '', 'url': 'https://biztoc.com/x/eed7ce794ec829df', 'urlToImage': 'https://biztoc.com/cdn/950/og.png', 'publishedAt': '2025-08-09T05:18:53Z', 'content': '{ window.open(this.href, \\'_blank\\'); }, 200); return false;\"&gt;Why did Texas sue Democratic lawmakers over redistricting? { window.open(this.href, \\'_blank\\'); }, 200); return false;\"&gt;How will SEC-R… [+759 chars]'}, {'source': {'id': None, 'name': 'Daringfireball.net'}, 'author': 'John Gruber', 'title': 'Gold, Frankincense, and Silicon', 'description': 'It is disturbing to think that the leader of a beloved, trusted, and widely believed-to-be-ethical company like Apple has succumbed to avarice. That Tim Cook feels no qualms about\\u2009—\\u2009or perhaps even delights in\\u2009—\\u2009participating in a quid-pro-quo-driven corrupt …', 'url': 'https://daringfireball.net/2025/08/gold_frankincense_and_silicon', 'urlToImage': 'https://daringfireball.net/graphics/df-wide-card.png', 'publishedAt': '2025-08-09T01:16:37Z', 'content': 'A list of various related news items and clips from this, and recent, weeks:\\n\\n<ol>\\n<li>Apple Newsroom, on Wednesday\\u2009—\\u2009“Apple Increases U.S. Commitment\\nTo $600 Billion, Announces American Manufacturin… [+14621 chars]'}, {'source': {'id': None, 'name': 'Substack.com'}, 'author': 'sparkey', 'title': 'Myths, Mess, and What Actually Matters - by Zoe Scaman', 'description': 'Making AI work in the real world.', 'url': 'https://zoescaman.substack.com/p/myths-mess-and-what-actually-matters', 'urlToImage': 'https://substackcdn.com/image/fetch/$s_!_-Ta!,w_1200,h_600,c_fill,f_jpg,q_auto:good,fl_progressive:steep,g_auto/https%3A%2F%2Fsubstack-post-media.s3.amazonaws.com%2Fpublic%2Fimages%2F1a01c812-5618-4111-adcb-3ef67bd009bb_500x500.gif', 'publishedAt': '2025-08-09T05:47:02Z', 'content': 'Im currently leading the AI and Data Strategy for a major UK retailer.\\r\\nWhy me? Because Im a translator.\\r\\nNot in the linguistic sense, but in the business-critical sense. I speak two native languages… [+13497 chars]'}, {'source': {'id': None, 'name': 'Newsday'}, 'author': 'The Associated Press', 'title': 'Wall Street clocks another winning week', 'description': 'Stocks rose on Wall Street, marking their third winning week in the last four.', 'url': 'https://www.newsday.com/business/asia-japan-trump-tariffs-wall-street-n36426', 'urlToImage': 'https://cdn.newsday.com/ace/c:NTNiZGQyZDgtMmYzMS00:ZDI4NzczMTgtNzVmYS00/landscape/1280', 'publishedAt': '2025-08-09T03:26:54Z', 'content': 'U.S. stocks closed higher Friday, capping a choppy week of trading with the markets third winning week in the last four and another milestone.\\r\\nThe S&amp;P 500 rose 0.8%, finishing just shy of the re… [+5139 chars]'}]\u001b[0m\u001b[32;1m\u001b[1;3m# Stock Analysis Report: NVIDIA Corp (NVDA)\n",
            "**Date:** 2025-08-10\n",
            "\n",
            "## 1. Overall Recommendation\n",
            "**STRONG BUY**\n",
            "\n",
            "## 2. Key Price Metrics\n",
            "NVIDIA Corp's last closing price as of 2025-08-08 was $182.70. Over the recent 5-day period, the stock has shown a generally positive trend, increasing from $180.00 on August 4th to its current closing price, indicating upward momentum.\n",
            "\n",
            "## 3. News & Sentiment Summary\n",
            "Recent news indicates a highly positive development for NVIDIA, as the U.S. government has begun granting licenses for the company to export its H20 chips to China. This move removes a significant trade hurdle and is expected to avert potential losses, allowing NVIDIA to access a key market. The overall sentiment surrounding these developments is strongly positive.\n",
            "\n",
            "## 4. Top Headlines\n",
            "*   US allowed Nvidia chip sales after Trump-Huang meeting\n",
            "*   Nvidia wins US approval to sell H20 chips to China\n",
            "*   US licenses Nvidia to export chips to China, official says\n",
            "*   Nvidia's $8 Billion Loss May Be Averted As US Approves H20 Chip Exports To China Amid Trad Tensions: Report\n",
            "\n",
            "---\n",
            "*Disclaimer: This is an AI-generated report for informational purposes only and does not constitute financial advice.*\u001b[0mInvalid Format: Missing 'Action:' after 'Thought:'\u001b[32;1m\u001b[1;3m# Stock Analysis Report: NVIDIA Corp (NVDA)\n",
            "**Date:** 2025-08-10\n",
            "\n",
            "## 1. Overall Recommendation\n",
            "**STRONG BUY**\n",
            "\n",
            "## 2. Key Price Metrics\n",
            "NVIDIA Corp's last closing price as of 2025-08-08 was $182.70. Over the recent 5-day period (from 2025-08-04 to 2025-08-08), the stock has shown a generally positive trend, increasing from $180.00 to $182.70, indicating upward momentum.\n",
            "\n",
            "## 3. News & Sentiment Summary\n",
            "Recent news indicates a highly positive development for NVIDIA, as the U.S. government has begun granting licenses for the company to export its H20 chips to China. This move removes a significant trade hurdle and is expected to avert potential losses, allowing NVIDIA to access a key market. The overall sentiment surrounding these developments is strongly positive.\n",
            "\n",
            "## 4. Top Headlines\n",
            "*   US allowed Nvidia chip sales after Trump-Huang meeting\n",
            "*   Nvidia wins US approval to sell H20 chips to China\n",
            "*   US licenses Nvidia to export chips to China, official says\n",
            "*   Nvidia's $8 Billion Loss May Be Averted As US Approves H20 Chip Exports To China Amid Trad Tensions: Report\n",
            "\n",
            "---\n",
            "*Disclaimer: This is an AI-generated report for informational purposes only and does not constitute financial advice.*\u001b[0mInvalid Format: Missing 'Action:' after 'Thought:'\u001b[32;1m\u001b[1;3m# Stock Analysis Report: NVIDIA Corp (NVDA)\n",
            "**Date:** 2025-08-10\n",
            "\n",
            "## 1. Overall Recommendation\n",
            "**STRONG BUY**\n",
            "\n",
            "## 2. Key Price Metrics\n",
            "NVIDIA Corp's last closing price as of 2025-08-08 was $182.70. Over the recent 5-day period (from 2025-08-04 to 2025-08-08), the stock has shown a generally positive trend, increasing from $180.00 to $182.70, indicating upward momentum.\n",
            "\n",
            "## 3. News & Sentiment Summary\n",
            "Recent news indicates a highly positive development for NVIDIA, as the U.S. government has begun granting licenses for the company to export its H20 chips to China. This move removes a significant trade hurdle and is expected to avert potential losses, allowing NVIDIA to access a key market. The overall sentiment surrounding these developments is strongly positive.\n",
            "\n",
            "## 4. Top Headlines\n",
            "*   US allowed Nvidia chip sales after Trump-Huang meeting\n",
            "*   Nvidia wins US approval to sell H20 chips to China\n",
            "*   US licenses Nvidia to export chips to China, official says\n",
            "*   Nvidia's $8 Billion Loss May Be Averted As US Approves H20 Chip Exports To China Amid Trad Tensions: Report\n",
            "\n",
            "---\n",
            "*Disclaimer: This is an AI-generated report for informational purposes only and does not constitute financial advice.*\u001b[0mInvalid Format: Missing 'Action:' after 'Thought:'\u001b[32;1m\u001b[1;3m# Stock Analysis Report: NVIDIA Corp (NVDA)\n",
            "**Date:** 2025-08-10\n",
            "\n",
            "## 1. Overall Recommendation\n",
            "**STRONG BUY**\n",
            "\n",
            "## 2. Key Price Metrics\n",
            "NVIDIA Corp's last closing price as of 2025-08-08 was $182.70. Over the recent 5-day period (from 2025-08-04 to 2025-08-08), the stock has shown a generally positive trend, increasing from $180.00 to $182.70, indicating upward momentum.\n",
            "\n",
            "## 3. News & Sentiment Summary\n",
            "Recent news indicates a highly positive development for NVIDIA, as the U.S. government has begun granting licenses for the company to export its H20 chips to China. This move removes a significant trade hurdle and is expected to avert potential losses, allowing NVIDIA to access a key market. The overall sentiment surrounding these developments is strongly positive.\n",
            "\n",
            "## 4. Top Headlines\n",
            "*   US allowed Nvidia chip sales after Trump-Huang meeting\n",
            "*   Nvidia wins US approval to sell H20 chips to China\n",
            "*   US licenses Nvidia to export chips to China, official says\n",
            "*   Nvidia's $8 Billion Loss May Be Averted As US Approves H20 Chip Exports To China Amid Trad Tensions: Report\n",
            "\n",
            "---\n",
            "*Disclaimer: This is an AI-generated report for informational purposes only and does not constitute financial advice.*\u001b[0mInvalid Format: Missing 'Action:' after 'Thought:'\u001b[32;1m\u001b[1;3m# Stock Analysis Report: NVIDIA Corp (NVDA)\n",
            "**Date:** 2025-08-10\n",
            "\n",
            "## 1. Overall Recommendation\n",
            "**STRONG BUY**\n",
            "\n",
            "## 2. Key Price Metrics\n",
            "NVIDIA Corp's last closing price as of 2025-08-08 was $182.70. Over the recent 5-day period (from 2025-08-04 to 2025-08-08), the stock has shown a generally positive trend, increasing from $180.00 to $182.70, indicating upward momentum.\n",
            "\n",
            "## 3. News & Sentiment Summary\n",
            "Recent news indicates a highly positive development for NVIDIA, as the U.S. government has begun granting licenses for the company to export its H20 chips to China. This move removes a significant trade hurdle and is expected to avert potential losses, allowing NVIDIA to access a key market. The overall sentiment surrounding these developments is strongly positive.\n",
            "\n",
            "## 4. Top Headlines\n",
            "*   US allowed Nvidia chip sales after Trump-Huang meeting\n",
            "*   Nvidia wins US approval to sell H20 chips to China\n",
            "*   US licenses Nvidia to export chips to China, official says\n",
            "*   Nvidia's $8 Billion Loss May Be Averted As US Approves H20 Chip Exports To China Amid Trad Tensions: Report\n",
            "\n",
            "---\n",
            "*Disclaimer: This is an AI-generated report for informational purposes only and does not constitute financial advice.*\u001b[0mInvalid Format: Missing 'Action:' after 'Thought:'\u001b[32;1m\u001b[1;3mFinal Answer: # Stock Analysis Report: NVIDIA Corp (NVDA)\n",
            "**Date:** 2025-08-10\n",
            "\n",
            "## 1. Overall Recommendation\n",
            "**STRONG BUY**\n",
            "\n",
            "## 2. Key Price Metrics\n",
            "NVIDIA Corp's last closing price as of 2025-08-08 was $182.70. Over the recent 5-day period (from 2025-08-04 to 2025-08-08), the stock has shown a generally positive trend, increasing from $180.00 to $182.70, indicating upward momentum.\n",
            "\n",
            "## 3. News & Sentiment Summary\n",
            "Recent news indicates a highly positive development for NVIDIA, as the U.S. government has begun granting licenses for the company to export its H20 chips to China. This move removes a significant trade hurdle and is expected to avert potential losses, allowing NVIDIA to access a key market. The overall sentiment surrounding these developments is strongly positive.\n",
            "\n",
            "## 4. Top Headlines\n",
            "*   US allowed Nvidia chip sales after Trump-Huang meeting\n",
            "*   Nvidia wins US approval to sell H20 chips to China\n",
            "*   US licenses Nvidia to export chips to China, official says\n",
            "*   Nvidia's $8 Billion Loss May Be Averted As US Approves H20 Chip Exports To China Amid Trad Tensions: Report\n",
            "\n",
            "---\n",
            "*Disclaimer: This is an AI-generated report for informational purposes only and does not constitute financial advice.*\u001b[0m\n",
            "\n",
            "\u001b[1m> Finished chain.\u001b[0m\n"
          ]
        }
      ],
      "source": [
        "ticker = \"NVDA\"\n",
        "company_name = \"NVIDIA Corp\"\n",
        "\n",
        "report_template = f\"\"\"\n",
        "    Generate a stock analysis report for {company_name} ({ticker}).\n",
        "    Your final answer MUST be structured in the following format. Use the tools to find the information for each section:\n",
        "\n",
        "    # Stock Analysis Report: {company_name} ({ticker})\n",
        "    **Date:** {dt.date.today().strftime('%Y-%m-%d')}\n",
        "\n",
        "    ## 1. Overall Recommendation\n",
        "    (Your single-word recommendation: **STRONG BUY**, **MONITOR**, or **AVOID**. Base this on the news and sentiment.)\n",
        "\n",
        "    ## 2. Key Price Metrics\n",
        "    (Use the get_stock_data tool to report the last closing price and briefly describe the recent 5-day trend.)\n",
        "\n",
        "    ## 3. News & Sentiment Summary\n",
        "    (Use get_news_articles and analyze_sentiment to create a 2-3 sentence summary of the key news themes and the overall sentiment.)\n",
        "\n",
        "    ## 4. Top Headlines\n",
        "    (List the top 3-4 most relevant news headlines you found using the get_news_articles tool.)\n",
        "\n",
        "    ---\n",
        "    *Disclaimer: This is an AI-generated report for informational purposes only and does not constitute financial advice.*\n",
        "    \"\"\"\n",
        "\n",
        "print(f\"--- Generating Report for {company_name} ---\")\n",
        "\n",
        "response = agent_executor.invoke({\"input\": report_template})"
      ]
    },
    {
      "cell_type": "code",
      "execution_count": 36,
      "metadata": {
        "colab": {
          "base_uri": "https://localhost:8080/"
        },
        "id": "yHRQI5egho_H",
        "outputId": "abd31420-3dc7-40dd-e934-d16e86fd6c1e"
      },
      "outputs": [
        {
          "name": "stdout",
          "output_type": "stream",
          "text": [
            "\n",
            "--- Agent's Final Answer ---\n",
            "# Stock Analysis Report: NVIDIA Corp (NVDA)\n",
            "**Date:** 2025-08-10\n",
            "\n",
            "## 1. Overall Recommendation\n",
            "**STRONG BUY**\n",
            "\n",
            "## 2. Key Price Metrics\n",
            "NVIDIA Corp's last closing price as of 2025-08-08 was $182.70. Over the recent 5-day period (from 2025-08-04 to 2025-08-08), the stock has shown a generally positive trend, increasing from $180.00 to $182.70, indicating upward momentum.\n",
            "\n",
            "## 3. News & Sentiment Summary\n",
            "Recent news indicates a highly positive development for NVIDIA, as the U.S. government has begun granting licenses for the company to export its H20 chips to China. This move removes a significant trade hurdle and is expected to avert potential losses, allowing NVIDIA to access a key market. The overall sentiment surrounding these developments is strongly positive.\n",
            "\n",
            "## 4. Top Headlines\n",
            "*   US allowed Nvidia chip sales after Trump-Huang meeting\n",
            "*   Nvidia wins US approval to sell H20 chips to China\n",
            "*   US licenses Nvidia to export chips to China, official says\n",
            "*   Nvidia's $8 Billion Loss May Be Averted As US Approves H20 Chip Exports To China Amid Trad Tensions: Report\n",
            "\n",
            "---\n",
            "*Disclaimer: This is an AI-generated report for informational purposes only and does not constitute financial advice.*\n"
          ]
        }
      ],
      "source": [
        "print(\"\\n--- Agent's Final Answer ---\")\n",
        "final_report = response['output']\n",
        "print(final_report)"
      ]
    },
    {
      "cell_type": "code",
      "execution_count": null,
      "metadata": {
        "id": "UTlUn3O8XCu-"
      },
      "outputs": [],
      "source": [
        "def execute_paper_trade(ticker, qty=1, side='buy'):\n",
        "    \"\"\"\n",
        "    Executes a paper trade on Alpaca.\n",
        "    \"\"\"\n",
        "    api = tradeapi.REST(ALPACA_API_KEY,\n",
        "        ALPACA_SECRET_KEY,\n",
        "        base_url='https://paper-api.alpaca.markets',\n",
        "        api_version='v2'\n",
        "    )\n",
        "\n",
        "    try:\n",
        "        print(f\"--- Attempting to {side} {qty} share(s) of {ticker} ---\")\n",
        "        order = api.submit_order(\n",
        "            symbol=ticker,\n",
        "            qty=qty,\n",
        "            side=side,\n",
        "            type='market',\n",
        "            time_in_force='day'\n",
        "        )\n",
        "        print(f\"Success! Order submitted:\")\n",
        "        print(order)\n",
        "        return order\n",
        "    except Exception as e:\n",
        "        print(f\"Error executing trade: {e}\")\n",
        "        return None"
      ]
    },
    {
      "cell_type": "code",
      "execution_count": null,
      "metadata": {
        "id": "2SXUvH7T2RTV"
      },
      "outputs": [],
      "source": [
        "def get_position(ticker):\n",
        "    api = tradeapi.REST(ALPACA_API_KEY,\n",
        "        ALPACA_SECRET_KEY,\n",
        "        base_url='https://paper-api.alpaca.markets',\n",
        "        api_version='v2'\n",
        "    )\n",
        "\n",
        "    try:\n",
        "        position = api.get_position(ticker)\n",
        "        qty = float(position.qty)\n",
        "        print(f\" Found existing position: {qty} share(s) of {ticker}.\")\n",
        "        return qty\n",
        "    except tradeapi.rest.APIError as e:\n",
        "        if e.status_code == 404:\n",
        "            print(f\"No existing position found for {ticker}.\")\n",
        "            return 0\n",
        "        else:\n",
        "            print(f\" Error getting position: {e}\")\n",
        "            return 0"
      ]
    },
    {
      "cell_type": "code",
      "execution_count": 45,
      "metadata": {
        "colab": {
          "base_uri": "https://localhost:8080/"
        },
        "id": "cFcshCoVpa2W",
        "outputId": "6c59d2e6-ef00-4ae0-a7ce-bf3a822517ad"
      },
      "outputs": [
        {
          "name": "stdout",
          "output_type": "stream",
          "text": [
            "\n",
            "Recommendation is 'STRONG BUY'.\n",
            "Do you want to execute a BUY trade? (y/n): n\n",
            "Trade aborted by user.\n"
          ]
        }
      ],
      "source": [
        "if \"Overall Recommendation\" in final_report:\n",
        "    # --- BUY LOGIC WITH CONFIRMATION ---\n",
        "    if \"**STRONG BUY**\" in final_report:\n",
        "        print(\"\\nRecommendation is 'STRONG BUY'.\")\n",
        "        confirmation = input(\"Do you want to execute a BUY trade? (y/n): \").lower()\n",
        "\n",
        "        if confirmation == 'y':\n",
        "            while True: # Loop for input validation\n",
        "                try:\n",
        "                    qty_to_buy = int(input(\"Enter quantity to buy: \"))\n",
        "                    if qty_to_buy > 0:\n",
        "                        execute_paper_trade(ticker, qty=qty_to_buy, side='buy')\n",
        "                        break # Exit loop on success\n",
        "                    else:\n",
        "                        print(\"Quantity must be a positive number.\")\n",
        "                except ValueError:\n",
        "                    print(\"Invalid input. Please enter a whole number for the quantity.\")\n",
        "        else:\n",
        "            print(\"Trade aborted by user.\")\n",
        "\n",
        "    # --- SELL LOGIC WITH CONFIRMATION ---\n",
        "    elif \"**AVOID**\" in final_report:\n",
        "        print(\"\\nRecommendation is 'AVOID'.\")\n",
        "        owned_qty = get_position(ticker)\n",
        "\n",
        "        if owned_qty > 0:\n",
        "            confirmation = input(f\"You own {owned_qty} share(s). Do you want to execute a SELL trade? (y/n): \").lower()\n",
        "\n",
        "            if confirmation == 'y':\n",
        "                while True: # Loop for input validation\n",
        "                    try:\n",
        "                        qty_to_sell = int(input(f\"Enter quantity to sell (up to {owned_qty}): \"))\n",
        "                        if 0 < qty_to_sell <= owned_qty:\n",
        "                            execute_paper_trade(ticker, qty=qty_to_sell, side='sell')\n",
        "                            break # Exit loop on success\n",
        "                        else:\n",
        "                            print(f\"Invalid quantity. Please enter a number between 1 and {int(owned_qty)}.\")\n",
        "                    except ValueError:\n",
        "                        print(\"Invalid input. Please enter a whole number for the quantity.\")\n",
        "            else:\n",
        "                print(\"Trade aborted by user.\")\n",
        "        else:\n",
        "            print(\"No existing position to sell.\")\n",
        "\n",
        "    else:\n",
        "        print(f\"\\nRecommendation is 'MONITOR'. No trade executed.\")\n",
        "else:\n",
        "    print(\"\\nCould not find 'Overall Recommendation' in the report. No trade executed.\")"
      ]
    },
    {
      "cell_type": "code",
      "execution_count": null,
      "metadata": {
        "id": "eDZTyDX94wfw"
      },
      "outputs": [],
      "source": []
    },
    {
      "cell_type": "code",
      "execution_count": null,
      "metadata": {
        "id": "YSfdMLn77v00"
      },
      "outputs": [],
      "source": []
    },
    {
      "cell_type": "code",
      "execution_count": null,
      "metadata": {
        "id": "bX-u79817wLX"
      },
      "outputs": [],
      "source": []
    },
    {
      "cell_type": "code",
      "execution_count": null,
      "metadata": {
        "id": "kqqaIAbx7wjJ"
      },
      "outputs": [],
      "source": []
    },
    {
      "cell_type": "code",
      "execution_count": null,
      "metadata": {
        "id": "Id1zxgdK7w8F"
      },
      "outputs": [],
      "source": []
    },
    {
      "cell_type": "code",
      "execution_count": null,
      "metadata": {
        "id": "eQHcLmql7xXO"
      },
      "outputs": [],
      "source": [
        "# USE THIS IF THE ABOVE CODE DON'T WORK\n",
        "\n",
        "# ---------------------------------------------------------------------------------------------------------------\n",
        "# if \"Overall Recommendation\" in final_report:\n",
        "#     if \"**STRONG BUY**\" in final_report:\n",
        "#         print(\"\\nRecommendation is 'STRONG BUY'. Executing paper trade.\")\n",
        "#         execute_paper_trade(ticker, qty=5, side='buy')\n",
        "#     else:\n",
        "#         print(f\"\\nRecommendation found, but it was not 'STRONG BUY'. No trade executed.\")\n",
        "# else:\n",
        "#     print(\"\\nCould not find 'Overall Recommendation' in the report. No trade executed.\")\n",
        "# ---------------------------------------------------------------------------------------------------------------"
      ]
    }
  ],
  "metadata": {
    "colab": {
      "provenance": []
    },
    "kernelspec": {
      "display_name": "Python 3",
      "name": "python3"
    },
    "language_info": {
      "name": "python"
    }
  },
  "nbformat": 4,
  "nbformat_minor": 0
}
